{
  "nbformat": 4,
  "nbformat_minor": 0,
  "metadata": {
    "colab": {
      "provenance": [],
      "authorship_tag": "ABX9TyM/Ca+ePfhoJ+sjXQmlCVDC",
      "include_colab_link": true
    },
    "kernelspec": {
      "name": "python3",
      "display_name": "Python 3"
    },
    "language_info": {
      "name": "python"
    }
  },
  "cells": [
    {
      "cell_type": "markdown",
      "metadata": {
        "id": "view-in-github",
        "colab_type": "text"
      },
      "source": [
        "<a href=\"https://colab.research.google.com/github/2403A51L03/2403A51L03_B51_P_DS/blob/main/Lab_1_1.ipynb\" target=\"_parent\"><img src=\"https://colab.research.google.com/assets/colab-badge.svg\" alt=\"Open In Colab\"/></a>"
      ]
    },
    {
      "cell_type": "code",
      "source": [
        "def factorial(n):\n",
        "    if n == 0 or n == 1:\n",
        "        return 1\n",
        "    return n * factorial(n - 1)"
      ],
      "metadata": {
        "id": "sikGZPyjbOlx"
      },
      "execution_count": 5,
      "outputs": []
    },
    {
      "cell_type": "code",
      "source": [
        "def permutation(n, r):\n",
        "    return factorial(n) // factorial(n - r)"
      ],
      "metadata": {
        "id": "XJoYUF2LbOrx"
      },
      "execution_count": 6,
      "outputs": []
    },
    {
      "cell_type": "code",
      "source": [
        "n = int(input(\"Enter value of n (total items): \"))\n",
        "r = int(input(\"Enter value of r (selected items): \"))"
      ],
      "metadata": {
        "colab": {
          "base_uri": "https://localhost:8080/"
        },
        "id": "7VjaWNDwbOxr",
        "outputId": "f7d5ab53-80d7-43f9-cccd-18a7d5444c87"
      },
      "execution_count": 7,
      "outputs": [
        {
          "name": "stdout",
          "output_type": "stream",
          "text": [
            "Enter value of n (total items): 6\n",
            "Enter value of r (selected items): 2\n"
          ]
        }
      ]
    },
    {
      "cell_type": "code",
      "source": [
        "if n < r or n < 0 or r < 0:\n",
        "    print(\"Invalid input! Make sure that n ≥ r and both are non-negative.\")\n",
        "else:\n",
        "    print(f\"\\nStep-by-step computation for {n}P{r}:\")\n",
        "    print(f\"{n}P{r} = {n}! / ({n} - {r})! = {n}! / {n - r}!\")\n",
        "    print(f\"{n}! = {factorial(n)}\")\n",
        "    print(f\"{n - r}! = {factorial(n - r)}\")\n",
        "    print(f\"{n}P{r} = {factorial(n)} / {factorial(n - r)} = {permutation(n, r)}\")"
      ],
      "metadata": {
        "colab": {
          "base_uri": "https://localhost:8080/"
        },
        "id": "35aTCx6dbO1r",
        "outputId": "0cef7e01-cd8b-4a0a-dea0-5da9fb78fa90"
      },
      "execution_count": 8,
      "outputs": [
        {
          "output_type": "stream",
          "name": "stdout",
          "text": [
            "\n",
            "Step-by-step computation for 6P2:\n",
            "6P2 = 6! / (6 - 2)! = 6! / 4!\n",
            "6! = 720\n",
            "4! = 24\n",
            "6P2 = 720 / 24 = 30\n"
          ]
        }
      ]
    }
  ]
}