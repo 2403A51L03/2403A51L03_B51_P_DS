{
  "nbformat": 4,
  "nbformat_minor": 0,
  "metadata": {
    "colab": {
      "provenance": [],
      "authorship_tag": "ABX9TyOSo3IIpEMJ9RDI067MB2qI",
      "include_colab_link": true
    },
    "kernelspec": {
      "name": "python3",
      "display_name": "Python 3"
    },
    "language_info": {
      "name": "python"
    }
  },
  "cells": [
    {
      "cell_type": "markdown",
      "metadata": {
        "id": "view-in-github",
        "colab_type": "text"
      },
      "source": [
        "<a href=\"https://colab.research.google.com/github/2403A51L03/2403A51L03_B51_P_DS/blob/main/Lab_2_1.ipynb\" target=\"_parent\"><img src=\"https://colab.research.google.com/assets/colab-badge.svg\" alt=\"Open In Colab\"/></a>"
      ]
    },
    {
      "cell_type": "code",
      "execution_count": 26,
      "metadata": {
        "id": "nVQoBb3WPW9n"
      },
      "outputs": [],
      "source": [
        "import numpy as np\n",
        "import pandas as pd"
      ]
    },
    {
      "cell_type": "code",
      "source": [
        "data={\n",
        "    'OrderID':[1,2,3,4,5],\n",
        "    'Product':['TV','Remote','Mobile','Laptop','Fridge'],\n",
        "    'Quantity':[8,25,17,5,8],\n",
        "    'Price':[30000,100,25000,100000,35000]\n",
        "}\n",
        "\n",
        "df=pd.DataFrame(data)"
      ],
      "metadata": {
        "id": "iT2cMAM2RSx9"
      },
      "execution_count": 27,
      "outputs": []
    },
    {
      "cell_type": "code",
      "source": [
        "df['TotalSales']= df['Quantity'] * df['Price']\n",
        "print(df['TotalSales'])"
      ],
      "metadata": {
        "colab": {
          "base_uri": "https://localhost:8080/"
        },
        "id": "aHwc1v-HVSP7",
        "outputId": "e5a5f212-5cd8-4767-d1c0-83368fc2b319"
      },
      "execution_count": 28,
      "outputs": [
        {
          "output_type": "stream",
          "name": "stdout",
          "text": [
            "0    240000\n",
            "1      2500\n",
            "2    425000\n",
            "3    500000\n",
            "4    280000\n",
            "Name: TotalSales, dtype: int64\n"
          ]
        }
      ]
    },
    {
      "cell_type": "code",
      "source": [
        "HighSales=df[df['TotalSales']>1000]\n",
        "print(HighSales)"
      ],
      "metadata": {
        "colab": {
          "base_uri": "https://localhost:8080/"
        },
        "id": "mEe4ZfCzV-Iu",
        "outputId": "767bdd7d-4673-4e0d-cd41-db40b9a524b8"
      },
      "execution_count": 29,
      "outputs": [
        {
          "output_type": "stream",
          "name": "stdout",
          "text": [
            "   OrderID Product  Quantity   Price  TotalSales\n",
            "0        1      TV         8   30000      240000\n",
            "1        2  Remote        25     100        2500\n",
            "2        3  Mobile        17   25000      425000\n",
            "3        4  Laptop         5  100000      500000\n",
            "4        5  Fridge         8   35000      280000\n"
          ]
        }
      ]
    },
    {
      "cell_type": "code",
      "source": [
        "MostSold=df.groupby('Product')['Quantity'].sum().sort_values(ascending=False)\n",
        "MostSoldProduct=MostSold.index[0]\n",
        "print(MostSoldProduct)"
      ],
      "metadata": {
        "colab": {
          "base_uri": "https://localhost:8080/"
        },
        "id": "vrRWUrkJWW_O",
        "outputId": "478fb548-4337-44ea-852f-c89fcec2cde4"
      },
      "execution_count": 30,
      "outputs": [
        {
          "output_type": "stream",
          "name": "stdout",
          "text": [
            "Remote\n"
          ]
        }
      ]
    },
    {
      "cell_type": "code",
      "source": [
        "df['Discount(%)']=np.where(df['TotalSales']>3000,10,5)\n",
        "print(df)"
      ],
      "metadata": {
        "colab": {
          "base_uri": "https://localhost:8080/"
        },
        "id": "bnezaDVlXS1k",
        "outputId": "9f035f17-ce1a-4259-ddea-4dc0a018dd40"
      },
      "execution_count": 31,
      "outputs": [
        {
          "output_type": "stream",
          "name": "stdout",
          "text": [
            "   OrderID Product  Quantity   Price  TotalSales  Discount(%)\n",
            "0        1      TV         8   30000      240000           10\n",
            "1        2  Remote        25     100        2500            5\n",
            "2        3  Mobile        17   25000      425000           10\n",
            "3        4  Laptop         5  100000      500000           10\n",
            "4        5  Fridge         8   35000      280000           10\n"
          ]
        }
      ]
    },
    {
      "cell_type": "code",
      "source": [
        "df.to_excel(\"Sales.xlsx\",index=False)"
      ],
      "metadata": {
        "id": "f3iPtupQYojm"
      },
      "execution_count": 32,
      "outputs": []
    }
  ]
}