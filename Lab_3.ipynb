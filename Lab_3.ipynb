{
  "nbformat": 4,
  "nbformat_minor": 0,
  "metadata": {
    "colab": {
      "provenance": [],
      "authorship_tag": "ABX9TyOFs4LCZpBIUqhx+AVpBsDY",
      "include_colab_link": true
    },
    "kernelspec": {
      "name": "python3",
      "display_name": "Python 3"
    },
    "language_info": {
      "name": "python"
    }
  },
  "cells": [
    {
      "cell_type": "markdown",
      "metadata": {
        "id": "view-in-github",
        "colab_type": "text"
      },
      "source": [
        "<a href=\"https://colab.research.google.com/github/2403A51L03/2403A51L03_B51_P_DS/blob/main/Lab_3.ipynb\" target=\"_parent\"><img src=\"https://colab.research.google.com/assets/colab-badge.svg\" alt=\"Open In Colab\"/></a>"
      ]
    },
    {
      "cell_type": "markdown",
      "source": [
        "1"
      ],
      "metadata": {
        "id": "7Cl59Ve4UcPI"
      }
    },
    {
      "cell_type": "code",
      "source": [
        "import numpy as np\n",
        "import matplotlib.pyplot as plt"
      ],
      "metadata": {
        "id": "jh4Tv5uxUBGg"
      },
      "execution_count": 7,
      "outputs": []
    },
    {
      "cell_type": "code",
      "source": [
        "A = np.random.randint(1, 11, size=(3, 3))\n",
        "B = np.random.randint(1, 11, size=(3, 3))"
      ],
      "metadata": {
        "id": "3Tv_3UEWUBMm"
      },
      "execution_count": 8,
      "outputs": []
    },
    {
      "cell_type": "code",
      "source": [
        "addition_result = np.add(A, B)\n",
        "subtraction_result = np.subtract(A, B)"
      ],
      "metadata": {
        "id": "ACFR06PZUBU1"
      },
      "execution_count": 9,
      "outputs": []
    },
    {
      "cell_type": "code",
      "source": [
        "print(\"Matrix A:\\n\", A)\n",
        "print(\"\\nMatrix B:\\n\", B)\n",
        "print(\"\\nAddition (A + B):\\n\", addition_result)\n",
        "print(\"\\nSubtraction (A - B):\\n\", subtraction_result)"
      ],
      "metadata": {
        "colab": {
          "base_uri": "https://localhost:8080/",
          "height": 0
        },
        "id": "GRCrF_9WUBX2",
        "outputId": "3668f034-47e7-4b74-926a-b44093bf81c3"
      },
      "execution_count": 10,
      "outputs": [
        {
          "output_type": "stream",
          "name": "stdout",
          "text": [
            "Matrix A:\n",
            " [[6 5 7]\n",
            " [1 3 7]\n",
            " [5 8 8]]\n",
            "\n",
            "Matrix B:\n",
            " [[10  9  1]\n",
            " [ 3  2  3]\n",
            " [ 4  9  1]]\n",
            "\n",
            "Addition (A + B):\n",
            " [[16 14  8]\n",
            " [ 4  5 10]\n",
            " [ 9 17  9]]\n",
            "\n",
            "Subtraction (A - B):\n",
            " [[-4 -4  6]\n",
            " [-2  1  4]\n",
            " [ 1 -1  7]]\n"
          ]
        }
      ]
    },
    {
      "cell_type": "code",
      "source": [
        "row, col = 1, 2\n",
        "manual_add = A[row, col] + B[row, col]\n",
        "manual_sub = A[row, col] - B[row, col]"
      ],
      "metadata": {
        "id": "5HqlXEH0UBdB"
      },
      "execution_count": 11,
      "outputs": []
    },
    {
      "cell_type": "code",
      "source": [
        "print(f\"\\nManual Check at position (2,3):\")\n",
        "print(f\"A[1,2] + B[1,2] = {A[row, col]} + {B[row, col]} = {manual_add}\")\n",
        "print(f\"A[1,2] - B[1,2] = {A[row, col]} - {B[row, col]} = {manual_sub}\")"
      ],
      "metadata": {
        "colab": {
          "base_uri": "https://localhost:8080/",
          "height": 0
        },
        "id": "EFrciX_yUBjv",
        "outputId": "054b7cd2-a067-45b5-8dee-d56e601f5bfb"
      },
      "execution_count": 12,
      "outputs": [
        {
          "output_type": "stream",
          "name": "stdout",
          "text": [
            "\n",
            "Manual Check at position (2,3):\n",
            "A[1,2] + B[1,2] = 7 + 3 = 10\n",
            "A[1,2] - B[1,2] = 7 - 3 = 4\n"
          ]
        }
      ]
    },
    {
      "cell_type": "code",
      "source": [],
      "metadata": {
        "id": "uwIFAwGSUBqX"
      },
      "execution_count": 12,
      "outputs": []
    },
    {
      "cell_type": "markdown",
      "source": [
        "2"
      ],
      "metadata": {
        "id": "bjP8bcxsUk_J"
      }
    },
    {
      "cell_type": "code",
      "source": [
        "A = np.random.randint(1, 6, size=(3, 2))\n",
        "B = np.random.randint(1, 6, size=(2, 3))"
      ],
      "metadata": {
        "id": "ZzliDSVCUB1e"
      },
      "execution_count": 14,
      "outputs": []
    },
    {
      "cell_type": "code",
      "source": [
        "print(\"Matrix A (3x2):\\n\", A)\n",
        "print(\"\\nMatrix B (2x3):\\n\", B)"
      ],
      "metadata": {
        "colab": {
          "base_uri": "https://localhost:8080/",
          "height": 0
        },
        "id": "XR8TGNLIUB6z",
        "outputId": "6e833c29-5347-49ba-ee03-8f6e029da08b"
      },
      "execution_count": 15,
      "outputs": [
        {
          "output_type": "stream",
          "name": "stdout",
          "text": [
            "Matrix A (3x2):\n",
            " [[4 3]\n",
            " [5 3]\n",
            " [3 5]]\n",
            "\n",
            "Matrix B (2x3):\n",
            " [[2 4 1]\n",
            " [4 1 2]]\n"
          ]
        }
      ]
    },
    {
      "cell_type": "code",
      "source": [
        "C = np.dot(A, B)"
      ],
      "metadata": {
        "id": "9pEokAt3UB_D"
      },
      "execution_count": 16,
      "outputs": []
    },
    {
      "cell_type": "code",
      "source": [
        "print(\"\\nResult of A dot B (3x3):\\n\", C)"
      ],
      "metadata": {
        "colab": {
          "base_uri": "https://localhost:8080/",
          "height": 0
        },
        "id": "IRR25GofUCD6",
        "outputId": "f52f9828-fae4-4dca-819b-d8ddc89a076e"
      },
      "execution_count": 17,
      "outputs": [
        {
          "output_type": "stream",
          "name": "stdout",
          "text": [
            "\n",
            "Result of A dot B (3x3):\n",
            " [[20 19 10]\n",
            " [22 23 11]\n",
            " [26 17 13]]\n"
          ]
        }
      ]
    },
    {
      "cell_type": "code",
      "source": [
        "row, col = 1, 2\n",
        "manual_calc = A[row, 0]*B[0, col] + A[row, 1]*B[1, col]\n",
        "print(f\"\\nManual check for C[2,3]: {manual_calc} (matches {C[row, col]})\")"
      ],
      "metadata": {
        "colab": {
          "base_uri": "https://localhost:8080/",
          "height": 0
        },
        "id": "9mfVkGeqUCJM",
        "outputId": "928dabfd-0867-43a7-b73d-a1c30693b599"
      },
      "execution_count": 18,
      "outputs": [
        {
          "output_type": "stream",
          "name": "stdout",
          "text": [
            "\n",
            "Manual check for C[2,3]: 11 (matches 11)\n"
          ]
        }
      ]
    }
  ]
}