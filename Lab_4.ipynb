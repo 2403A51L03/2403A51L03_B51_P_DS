{
  "nbformat": 4,
  "nbformat_minor": 0,
  "metadata": {
    "colab": {
      "provenance": [],
      "authorship_tag": "ABX9TyMMAWcO31ukTf1s4Vrimwd7",
      "include_colab_link": true
    },
    "kernelspec": {
      "name": "python3",
      "display_name": "Python 3"
    },
    "language_info": {
      "name": "python"
    }
  },
  "cells": [
    {
      "cell_type": "markdown",
      "metadata": {
        "id": "view-in-github",
        "colab_type": "text"
      },
      "source": [
        "<a href=\"https://colab.research.google.com/github/2403A51L03/2403A51L03_B51_P_DS/blob/main/Lab_4.ipynb\" target=\"_parent\"><img src=\"https://colab.research.google.com/assets/colab-badge.svg\" alt=\"Open In Colab\"/></a>"
      ]
    },
    {
      "cell_type": "code",
      "source": [
        "1"
      ],
      "metadata": {
        "id": "Glx3neckpKCm"
      },
      "execution_count": null,
      "outputs": []
    },
    {
      "cell_type": "code",
      "execution_count": 1,
      "metadata": {
        "id": "RdihR_Pcl3o3",
        "colab": {
          "base_uri": "https://localhost:8080/",
          "height": 0
        },
        "outputId": "a8354938-44a0-4b39-fa5e-d62097b4bc74"
      },
      "outputs": [
        {
          "output_type": "stream",
          "name": "stdout",
          "text": [
            "High Achievers (All subjects > 75):\n",
            "   Student_ID     Name   Math  Science  English\n",
            "0           1    Alice  85.00    90.00    82.00\n",
            "1           2      Bob  78.75    88.00    76.00\n",
            "2           3  Charlie  78.00    85.75    80.00\n",
            "3           4    David  92.00    95.00    75.75\n"
          ]
        }
      ],
      "source": [
        "import pandas as pd\n",
        "\n",
        "df = pd.read_csv(\"student_scores.csv\")\n",
        "\n",
        "df.fillna(df.mean(numeric_only=True), inplace=True)\n",
        "\n",
        "high_achievers = df[(df[\"Math\"] > 75) & (df[\"Science\"] > 75) & (df[\"English\"] > 75)]\n",
        "\n",
        "print(\"High Achievers (All subjects > 75):\")\n",
        "print(high_achievers)\n"
      ]
    },
    {
      "cell_type": "code",
      "source": [],
      "metadata": {
        "id": "LSBvptUZl8QL"
      },
      "execution_count": null,
      "outputs": []
    },
    {
      "cell_type": "markdown",
      "source": [
        "2"
      ],
      "metadata": {
        "id": "qxDWKsT9pI6J"
      }
    },
    {
      "cell_type": "code",
      "source": [
        "\n",
        "patients = pd.read_csv(\"patients.csv\")\n",
        "\n",
        "patients[\"Age\"] = patients[\"Age\"].fillna(patients[\"Age\"].median())\n",
        "\n",
        "elderly_females_diabetes = patients[\n",
        "    (patients[\"Gender\"].str.lower() == \"female\") &\n",
        "    (patients[\"Age\"] > 50) &\n",
        "    (patients[\"Diagnosis\"].str.lower() == \"diabetes\")\n",
        "]\n",
        "\n",
        "print(\"Elderly Female Patients with Diabetes:\")\n",
        "print(elderly_females_diabetes)\n"
      ],
      "metadata": {
        "id": "cb78w5lIl8aQ",
        "colab": {
          "base_uri": "https://localhost:8080/",
          "height": 0
        },
        "outputId": "1fdabc72-9aa5-4dff-d809-1906c9bfb192"
      },
      "execution_count": 4,
      "outputs": [
        {
          "output_type": "stream",
          "name": "stdout",
          "text": [
            "Elderly Female Patients with Diabetes:\n",
            "   Patient_ID      Name   Age  Gender Diagnosis Admission_Date\n",
            "0         101      Mary  65.0  Female  Diabetes     2023-01-15\n",
            "2         103     Linda  60.0  Female  Diabetes     2023-03-05\n",
            "4         105  Patricia  55.0  Female  Diabetes     2023-05-18\n"
          ]
        }
      ]
    }
  ]
}