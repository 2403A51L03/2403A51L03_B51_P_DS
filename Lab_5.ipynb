{
  "nbformat": 4,
  "nbformat_minor": 0,
  "metadata": {
    "colab": {
      "provenance": [],
      "authorship_tag": "ABX9TyNfkUwNqUpYeNn9CTYvfSVj",
      "include_colab_link": true
    },
    "kernelspec": {
      "name": "python3",
      "display_name": "Python 3"
    },
    "language_info": {
      "name": "python"
    }
  },
  "cells": [
    {
      "cell_type": "markdown",
      "metadata": {
        "id": "view-in-github",
        "colab_type": "text"
      },
      "source": [
        "<a href=\"https://colab.research.google.com/github/2403A51L03/2403A51L03_B51_P_DS/blob/main/Lab_5.ipynb\" target=\"_parent\"><img src=\"https://colab.research.google.com/assets/colab-badge.svg\" alt=\"Open In Colab\"/></a>"
      ]
    },
    {
      "cell_type": "markdown",
      "source": [
        "1"
      ],
      "metadata": {
        "id": "xWFmzl7xjurm"
      }
    },
    {
      "cell_type": "code",
      "execution_count": null,
      "metadata": {
        "id": "jy2jJn0QdBtW"
      },
      "outputs": [],
      "source": [
        "import pandas as pd"
      ]
    },
    {
      "cell_type": "code",
      "source": [
        "students = pd.DataFrame({\n",
        "    'student_id': [1, 2, 3, 4, 5],\n",
        "    'name': ['Alice', 'Bob', 'Charlie', 'David', 'Eva'],\n",
        "    'class': ['A', 'B', 'A', 'B', 'A']\n",
        "})"
      ],
      "metadata": {
        "id": "_eHiuatidC4N"
      },
      "execution_count": null,
      "outputs": []
    },
    {
      "cell_type": "code",
      "source": [
        "scores = pd.DataFrame({\n",
        "    'student_id': [1, 2, 2, 3, 6],\n",
        "    'subject': ['Math', 'Math', 'Science', 'Math', 'Science'],\n",
        "    'score': [85, 78, 88, 92, 74]\n",
        "})"
      ],
      "metadata": {
        "id": "9nScodEFdC-T"
      },
      "execution_count": null,
      "outputs": []
    },
    {
      "cell_type": "code",
      "source": [
        "print(\"Students Dataset:\\n\", students, \"\\n\")\n",
        "print(\"Scores Dataset:\\n\", scores, \"\\n\")"
      ],
      "metadata": {
        "colab": {
          "base_uri": "https://localhost:8080/"
        },
        "id": "nv6IY_LcdDCF",
        "outputId": "b7012f76-0f04-48f7-ed97-f9d413e71470"
      },
      "execution_count": null,
      "outputs": [
        {
          "output_type": "stream",
          "name": "stdout",
          "text": [
            "Students Dataset:\n",
            "    student_id     name class\n",
            "0           1    Alice     A\n",
            "1           2      Bob     B\n",
            "2           3  Charlie     A\n",
            "3           4    David     B\n",
            "4           5      Eva     A \n",
            "\n",
            "Scores Dataset:\n",
            "    student_id  subject  score\n",
            "0           1     Math     85\n",
            "1           2     Math     78\n",
            "2           2  Science     88\n",
            "3           3     Math     92\n",
            "4           6  Science     74 \n",
            "\n"
          ]
        }
      ]
    },
    {
      "cell_type": "code",
      "source": [
        "inner_join = pd.merge(students, scores, on='student_id', how='inner')\n",
        "left_join = pd.merge(students, scores, on='student_id', how='left')\n",
        "right_join = pd.merge(students, scores, on='student_id', how='right')"
      ],
      "metadata": {
        "id": "Mr2KxQEsdDGL"
      },
      "execution_count": null,
      "outputs": []
    },
    {
      "cell_type": "code",
      "source": [
        "print(\"Inner Join:\\n\", inner_join, \"\\n\")\n",
        "print(\"Left Join:\\n\", left_join, \"\\n\")\n",
        "print(\"Right Join:\\n\", right_join, \"\\n\")"
      ],
      "metadata": {
        "colab": {
          "base_uri": "https://localhost:8080/"
        },
        "id": "oQNnZ-THdDjr",
        "outputId": "18d71d8e-8fc3-4972-b5e4-d2755362edd9"
      },
      "execution_count": null,
      "outputs": [
        {
          "output_type": "stream",
          "name": "stdout",
          "text": [
            "Inner Join:\n",
            "    student_id     name class  subject  score\n",
            "0           1    Alice     A     Math     85\n",
            "1           2      Bob     B     Math     78\n",
            "2           2      Bob     B  Science     88\n",
            "3           3  Charlie     A     Math     92 \n",
            "\n",
            "Left Join:\n",
            "    student_id     name class  subject  score\n",
            "0           1    Alice     A     Math   85.0\n",
            "1           2      Bob     B     Math   78.0\n",
            "2           2      Bob     B  Science   88.0\n",
            "3           3  Charlie     A     Math   92.0\n",
            "4           4    David     B      NaN    NaN\n",
            "5           5      Eva     A      NaN    NaN \n",
            "\n",
            "Right Join:\n",
            "    student_id     name class  subject  score\n",
            "0           1    Alice     A     Math     85\n",
            "1           2      Bob     B     Math     78\n",
            "2           2      Bob     B  Science     88\n",
            "3           3  Charlie     A     Math     92\n",
            "4           6      NaN   NaN  Science     74 \n",
            "\n"
          ]
        }
      ]
    },
    {
      "cell_type": "code",
      "source": [
        "print(\"Overall Statistics:\")\n",
        "print(inner_join['score'].agg(['mean', 'max', 'min', 'count']), \"\\n\")"
      ],
      "metadata": {
        "colab": {
          "base_uri": "https://localhost:8080/"
        },
        "id": "ezuHE3a_dDqA",
        "outputId": "ef560362-0e3e-443d-a248-bfc1eb1e811c"
      },
      "execution_count": null,
      "outputs": [
        {
          "output_type": "stream",
          "name": "stdout",
          "text": [
            "Overall Statistics:\n",
            "mean     85.75\n",
            "max      92.00\n",
            "min      78.00\n",
            "count     4.00\n",
            "Name: score, dtype: float64 \n",
            "\n"
          ]
        }
      ]
    },
    {
      "cell_type": "code",
      "source": [
        "class_stats = inner_join.groupby('class')['score'].agg(['mean', 'max', 'min', 'count'])\n",
        "print(\"Statistics per Class:\\n\", class_stats, \"\\n\")"
      ],
      "metadata": {
        "colab": {
          "base_uri": "https://localhost:8080/"
        },
        "id": "fEBtOKe4dDrx",
        "outputId": "93e3e41d-89b2-4404-e179-34124b14a232"
      },
      "execution_count": null,
      "outputs": [
        {
          "output_type": "stream",
          "name": "stdout",
          "text": [
            "Statistics per Class:\n",
            "        mean  max  min  count\n",
            "class                       \n",
            "A      88.5   92   85      2\n",
            "B      83.0   88   78      2 \n",
            "\n"
          ]
        }
      ]
    },
    {
      "cell_type": "code",
      "source": [
        "subject_stats = inner_join.groupby('subject')['score'].agg(['mean', 'max', 'min', 'count'])\n",
        "print(\"Statistics per Subject:\\n\", subject_stats)"
      ],
      "metadata": {
        "colab": {
          "base_uri": "https://localhost:8080/"
        },
        "id": "TkodW5O9dDw3",
        "outputId": "eb84940f-c969-4b3f-b890-547beaea569c"
      },
      "execution_count": null,
      "outputs": [
        {
          "output_type": "stream",
          "name": "stdout",
          "text": [
            "Statistics per Subject:\n",
            "          mean  max  min  count\n",
            "subject                       \n",
            "Math     85.0   92   78      3\n",
            "Science  88.0   88   88      1\n"
          ]
        }
      ]
    },
    {
      "cell_type": "markdown",
      "source": [
        "2"
      ],
      "metadata": {
        "id": "OGHwP2KHjr45"
      }
    },
    {
      "cell_type": "code",
      "source": [
        "customers = pd.read_csv(\"customers.csv\")\n",
        "sales = pd.read_csv(\"sales.csv\")"
      ],
      "metadata": {
        "id": "fKPhnMtAheBS"
      },
      "execution_count": null,
      "outputs": []
    },
    {
      "cell_type": "code",
      "source": [
        "print(\"Customers Dataset:\\n\", customers, \"\\n\")\n",
        "print(\"Sales Dataset:\\n\", sales, \"\\n\")"
      ],
      "metadata": {
        "colab": {
          "base_uri": "https://localhost:8080/"
        },
        "id": "ACJl9xxHheL5",
        "outputId": "7ead9145-bbc4-4f19-cbde-41cabab46e6c"
      },
      "execution_count": null,
      "outputs": [
        {
          "output_type": "stream",
          "name": "stdout",
          "text": [
            "Customers Dataset:\n",
            "    customer_id     name region\n",
            "0            1    Alice  North\n",
            "1            2      Bob  South\n",
            "2            3  Charlie   East\n",
            "3            4    David   West \n",
            "\n",
            "Sales Dataset:\n",
            "    sale_id  customer_id  amount        date\n",
            "0      101            1     250  2023-01-10\n",
            "1      102            2     300  2023-01-12\n",
            "2      103            2     150  2023-01-15\n",
            "3      104            3     400  2023-02-01\n",
            "4      105            5     500  2023-02-05 \n",
            "\n"
          ]
        }
      ]
    },
    {
      "cell_type": "code",
      "source": [
        "inner_merge = pd.merge(customers, sales, on='customer_id', how='inner')\n",
        "left_merge = pd.merge(customers, sales, on='customer_id', how='left')"
      ],
      "metadata": {
        "id": "cbJUvnx2heTn"
      },
      "execution_count": null,
      "outputs": []
    },
    {
      "cell_type": "code",
      "source": [
        "print(\"Inner Join Result:\\n\", inner_merge, \"\\n\")\n",
        "print(\"Left Join Result:\\n\", left_merge, \"\\n\")"
      ],
      "metadata": {
        "colab": {
          "base_uri": "https://localhost:8080/"
        },
        "id": "bP_J4-sVhebb",
        "outputId": "908d12c5-47ec-4ea0-8a23-812d85b1e3f2"
      },
      "execution_count": null,
      "outputs": [
        {
          "output_type": "stream",
          "name": "stdout",
          "text": [
            "Inner Join Result:\n",
            "    customer_id     name region  sale_id  amount        date\n",
            "0            1    Alice  North      101     250  2023-01-10\n",
            "1            2      Bob  South      102     300  2023-01-12\n",
            "2            2      Bob  South      103     150  2023-01-15\n",
            "3            3  Charlie   East      104     400  2023-02-01 \n",
            "\n",
            "Left Join Result:\n",
            "    customer_id     name region  sale_id  amount        date\n",
            "0            1    Alice  North    101.0   250.0  2023-01-10\n",
            "1            2      Bob  South    102.0   300.0  2023-01-12\n",
            "2            2      Bob  South    103.0   150.0  2023-01-15\n",
            "3            3  Charlie   East    104.0   400.0  2023-02-01\n",
            "4            4    David   West      NaN     NaN         NaN \n",
            "\n"
          ]
        }
      ]
    },
    {
      "cell_type": "code",
      "source": [
        "print(\"Overall Sales Statistics:\")\n",
        "print(inner_merge['amount'].agg(['sum', 'mean', 'max', 'min', 'count']), \"\\n\")"
      ],
      "metadata": {
        "colab": {
          "base_uri": "https://localhost:8080/"
        },
        "id": "0NEcHyFRheiv",
        "outputId": "cd006ce3-8985-4fd5-a629-c9b37dc8727b"
      },
      "execution_count": null,
      "outputs": [
        {
          "output_type": "stream",
          "name": "stdout",
          "text": [
            "Overall Sales Statistics:\n",
            "sum      1100.0\n",
            "mean      275.0\n",
            "max       400.0\n",
            "min       150.0\n",
            "count       4.0\n",
            "Name: amount, dtype: float64 \n",
            "\n"
          ]
        }
      ]
    },
    {
      "cell_type": "code",
      "source": [
        "customer_stats = inner_merge.groupby('name')['amount'].agg(['sum', 'mean', 'count'])\n",
        "print(\"Sales per Customer:\\n\", customer_stats, \"\\n\")"
      ],
      "metadata": {
        "colab": {
          "base_uri": "https://localhost:8080/"
        },
        "id": "S84d46Uiheot",
        "outputId": "c26b5cbc-dc41-4f42-8bd5-5856c764802a"
      },
      "execution_count": null,
      "outputs": [
        {
          "output_type": "stream",
          "name": "stdout",
          "text": [
            "Sales per Customer:\n",
            "          sum   mean  count\n",
            "name                      \n",
            "Alice    250  250.0      1\n",
            "Bob      450  225.0      2\n",
            "Charlie  400  400.0      1 \n",
            "\n"
          ]
        }
      ]
    },
    {
      "cell_type": "code",
      "source": [
        "region_stats = inner_merge.groupby('region')['amount'].agg(['sum', 'mean', 'max', 'min', 'count'])\n",
        "print(\"Sales per Region:\\n\", region_stats)"
      ],
      "metadata": {
        "colab": {
          "base_uri": "https://localhost:8080/"
        },
        "id": "KrOvyOLAhevV",
        "outputId": "0d5778f3-26c8-47ec-c9f1-7d7f702226b9"
      },
      "execution_count": null,
      "outputs": [
        {
          "output_type": "stream",
          "name": "stdout",
          "text": [
            "Sales per Region:\n",
            "         sum   mean  max  min  count\n",
            "region                             \n",
            "East    400  400.0  400  400      1\n",
            "North   250  250.0  250  250      1\n",
            "South   450  225.0  300  150      2\n"
          ]
        }
      ]
    }
  ]
}